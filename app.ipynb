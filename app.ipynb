{
 "cells": [
  {
   "cell_type": "code",
   "execution_count": null,
   "id": "639a3046-3ed0-4156-9a3c-97a4adca9250",
   "metadata": {},
   "outputs": [],
   "source": [
    "from fastai.vision.all import *"
   ]
  },
  {
   "cell_type": "code",
   "execution_count": null,
   "id": "a97a64ac-86a8-4116-a6db-51fd28a4309a",
   "metadata": {},
   "outputs": [],
   "source": [
    "from pathlib import Path\n",
    "from fastcore.xtras import Path\n",
    "from fastai.learner import load_learner\n",
    "from fastcore.foundation import L"
   ]
  },
  {
   "cell_type": "code",
   "execution_count": null,
   "id": "343f0177-4c6e-43a2-b20f-49acacca28cd",
   "metadata": {},
   "outputs": [],
   "source": [
    "img_path = Path('./static')\n",
    "images_lis = [ i for i in list(img_path.ls()) if i.is_file()]\n",
    "images_lis[:3], len(images_lis)"
   ]
  },
  {
   "cell_type": "code",
   "execution_count": null,
   "id": "2b3432a5-7741-40e9-9082-42cd867a646a",
   "metadata": {},
   "outputs": [],
   "source": [
    "def label_to_class(f:str)->L:\n",
    "    return L(f)"
   ]
  },
  {
   "cell_type": "code",
   "execution_count": null,
   "id": "7b447b86-e78b-40d0-baee-2826e7b0a703",
   "metadata": {},
   "outputs": [],
   "source": [
    "model_path = Path('./model/model_asl_sign01.pkl')\n",
    "learner = load_learner('./model/model_asl_sign01.pkl')"
   ]
  },
  {
   "cell_type": "code",
   "execution_count": null,
   "id": "8658be23-4f21-4f3a-9503-c0b80b582656",
   "metadata": {},
   "outputs": [],
   "source": [
    "import gradio as gr\n",
    "import os\n",
    "\n",
    "\n",
    "def pred_image(image):\n",
    "    dict = {}\n",
    "    for i, j in zip(learner.dls.vocab, learner.predict(images_lis[0])[2]):\n",
    "        dict[i] = round(j.item(), 2)\n",
    "    \n",
    "    return dict\n",
    "\n",
    "\n",
    "demo = gr.Interface(\n",
    "    fn=pred_image,\n",
    "    inputs='image',\n",
    "    outputs=gr.Label(num_top_classes=29),\n",
    "    examples=images_lis,\n",
    ")\n",
    "\n",
    "if __name__ == \"__main__\":\n",
    "    demo.launch(debug=True)\n",
    "\n"
   ]
  },
  {
   "cell_type": "code",
   "execution_count": null,
   "id": "7c78b15a-9c98-4683-9fa0-58d3c8fee894",
   "metadata": {},
   "outputs": [],
   "source": []
  },
  {
   "cell_type": "code",
   "execution_count": null,
   "id": "cec5189f-c87b-4475-9aa5-0664e71f988c",
   "metadata": {},
   "outputs": [],
   "source": []
  }
 ],
 "metadata": {
  "kernelspec": {
   "display_name": "Python 3 (ipykernel)",
   "language": "python",
   "name": "python3"
  },
  "language_info": {
   "codemirror_mode": {
    "name": "ipython",
    "version": 3
   },
   "file_extension": ".py",
   "mimetype": "text/x-python",
   "name": "python",
   "nbconvert_exporter": "python",
   "pygments_lexer": "ipython3",
   "version": "3.10.12"
  }
 },
 "nbformat": 4,
 "nbformat_minor": 5
}
